{
 "cells": [
  {
   "cell_type": "markdown",
   "metadata": {},
   "source": [
    "---\n",
    "title: \"Writing Assignment IDS\"\n",
    "format: html\n",
    "execute:\n",
    "  echo: false\n",
    "---"
   ]
  },
  {
   "cell_type": "code",
   "execution_count": 2,
   "metadata": {},
   "outputs": [],
   "source": [
    "#echo: false\n",
    "#installing required libraries\n",
    "!pip install bar_chart_race  mplcursors --q\n"
   ]
  },
  {
   "cell_type": "code",
   "execution_count": 3,
   "metadata": {},
   "outputs": [],
   "source": [
    "#Importing all the neccessary libraries\n",
    "import pandas as pd\n",
    "import numpy as np\n",
    "import matplotlib.pyplot as plt\n",
    "import warnings\n",
    "warnings.filterwarnings('ignore') # hide all the warnings in the output\n",
    "import plotly.express as px\n",
    "import seaborn as sns\n",
    "import bar_chart_race as bcr\n",
    "import pandas as pd\n",
    "import plotly.graph_objects as go\n",
    "import mplcursors"
   ]
  },
  {
   "cell_type": "markdown",
   "metadata": {},
   "source": [
    "The dataset contains electricity usage data for various Indian states, recorded across different dates. Each row represents a state's usage at a specific timestamp, along with its geographical coordinates (latitude and longitude) and its corresponding region (like NR for North Region). The dataset includes 16,599 entries across 6 columns. The Usage column holds the power consumption values, while the Dates column indicates the timestamp in DD/MM/YYYY HH:MM:SS format.\n",
    "\n",
    "Data is in the form of a time series for a period of 17 months beginning from 2nd Jan 2019 till 23rd May 2020. \n",
    "\n",
    "Below is the first 10 samples from the dataset."
   ]
  },
  {
   "cell_type": "code",
   "execution_count": 6,
   "metadata": {
    "execution": {
     "iopub.execute_input": "2025-04-13T13:02:26.116673Z",
     "iopub.status.busy": "2025-04-13T13:02:26.116190Z",
     "iopub.status.idle": "2025-04-13T13:02:26.153521Z",
     "shell.execute_reply": "2025-04-13T13:02:26.151976Z",
     "shell.execute_reply.started": "2025-04-13T13:02:26.116640Z"
    },
    "trusted": true
   },
   "outputs": [
    {
     "data": {
      "text/html": [
       "<div>\n",
       "<style scoped>\n",
       "    .dataframe tbody tr th:only-of-type {\n",
       "        vertical-align: middle;\n",
       "    }\n",
       "\n",
       "    .dataframe tbody tr th {\n",
       "        vertical-align: top;\n",
       "    }\n",
       "\n",
       "    .dataframe thead th {\n",
       "        text-align: right;\n",
       "    }\n",
       "</style>\n",
       "<table border=\"1\" class=\"dataframe\">\n",
       "  <thead>\n",
       "    <tr style=\"text-align: right;\">\n",
       "      <th></th>\n",
       "      <th>States</th>\n",
       "      <th>Regions</th>\n",
       "      <th>latitude</th>\n",
       "      <th>longitude</th>\n",
       "      <th>Dates</th>\n",
       "      <th>Usage</th>\n",
       "    </tr>\n",
       "  </thead>\n",
       "  <tbody>\n",
       "    <tr>\n",
       "      <th>0</th>\n",
       "      <td>Punjab</td>\n",
       "      <td>NR</td>\n",
       "      <td>31.519974</td>\n",
       "      <td>75.980003</td>\n",
       "      <td>02/01/2019 00:00:00</td>\n",
       "      <td>119.9</td>\n",
       "    </tr>\n",
       "    <tr>\n",
       "      <th>1</th>\n",
       "      <td>Haryana</td>\n",
       "      <td>NR</td>\n",
       "      <td>28.450006</td>\n",
       "      <td>77.019991</td>\n",
       "      <td>02/01/2019 00:00:00</td>\n",
       "      <td>130.3</td>\n",
       "    </tr>\n",
       "    <tr>\n",
       "      <th>2</th>\n",
       "      <td>Rajasthan</td>\n",
       "      <td>NR</td>\n",
       "      <td>26.449999</td>\n",
       "      <td>74.639981</td>\n",
       "      <td>02/01/2019 00:00:00</td>\n",
       "      <td>234.1</td>\n",
       "    </tr>\n",
       "    <tr>\n",
       "      <th>3</th>\n",
       "      <td>Delhi</td>\n",
       "      <td>NR</td>\n",
       "      <td>28.669993</td>\n",
       "      <td>77.230004</td>\n",
       "      <td>02/01/2019 00:00:00</td>\n",
       "      <td>85.8</td>\n",
       "    </tr>\n",
       "    <tr>\n",
       "      <th>4</th>\n",
       "      <td>UP</td>\n",
       "      <td>NR</td>\n",
       "      <td>27.599981</td>\n",
       "      <td>78.050006</td>\n",
       "      <td>02/01/2019 00:00:00</td>\n",
       "      <td>313.9</td>\n",
       "    </tr>\n",
       "    <tr>\n",
       "      <th>5</th>\n",
       "      <td>Uttarakhand</td>\n",
       "      <td>NR</td>\n",
       "      <td>30.320409</td>\n",
       "      <td>78.050006</td>\n",
       "      <td>02/01/2019 00:00:00</td>\n",
       "      <td>40.7</td>\n",
       "    </tr>\n",
       "    <tr>\n",
       "      <th>6</th>\n",
       "      <td>HP</td>\n",
       "      <td>NR</td>\n",
       "      <td>31.100025</td>\n",
       "      <td>77.166597</td>\n",
       "      <td>02/01/2019 00:00:00</td>\n",
       "      <td>30.0</td>\n",
       "    </tr>\n",
       "    <tr>\n",
       "      <th>7</th>\n",
       "      <td>J&amp;K</td>\n",
       "      <td>NR</td>\n",
       "      <td>33.450000</td>\n",
       "      <td>76.240000</td>\n",
       "      <td>02/01/2019 00:00:00</td>\n",
       "      <td>52.5</td>\n",
       "    </tr>\n",
       "    <tr>\n",
       "      <th>8</th>\n",
       "      <td>Chandigarh</td>\n",
       "      <td>NR</td>\n",
       "      <td>30.719997</td>\n",
       "      <td>76.780006</td>\n",
       "      <td>02/01/2019 00:00:00</td>\n",
       "      <td>5.0</td>\n",
       "    </tr>\n",
       "    <tr>\n",
       "      <th>9</th>\n",
       "      <td>Chhattisgarh</td>\n",
       "      <td>WR</td>\n",
       "      <td>22.090420</td>\n",
       "      <td>82.159987</td>\n",
       "      <td>02/01/2019 00:00:00</td>\n",
       "      <td>78.7</td>\n",
       "    </tr>\n",
       "  </tbody>\n",
       "</table>\n",
       "</div>"
      ],
      "text/plain": [
       "         States Regions   latitude  longitude                Dates  Usage\n",
       "0        Punjab      NR  31.519974  75.980003  02/01/2019 00:00:00  119.9\n",
       "1       Haryana      NR  28.450006  77.019991  02/01/2019 00:00:00  130.3\n",
       "2     Rajasthan      NR  26.449999  74.639981  02/01/2019 00:00:00  234.1\n",
       "3         Delhi      NR  28.669993  77.230004  02/01/2019 00:00:00   85.8\n",
       "4            UP      NR  27.599981  78.050006  02/01/2019 00:00:00  313.9\n",
       "5   Uttarakhand      NR  30.320409  78.050006  02/01/2019 00:00:00   40.7\n",
       "6            HP      NR  31.100025  77.166597  02/01/2019 00:00:00   30.0\n",
       "7           J&K      NR  33.450000  76.240000  02/01/2019 00:00:00   52.5\n",
       "8    Chandigarh      NR  30.719997  76.780006  02/01/2019 00:00:00    5.0\n",
       "9  Chhattisgarh      WR  22.090420  82.159987  02/01/2019 00:00:00   78.7"
      ]
     },
     "execution_count": 6,
     "metadata": {},
     "output_type": "execute_result"
    }
   ],
   "source": [
    "df_l=pd.read_csv(\"long_data_.csv\")\n",
    "df_l.head(10)"
   ]
  },
  {
   "cell_type": "code",
   "execution_count": null,
   "metadata": {
    "execution": {
     "iopub.execute_input": "2025-04-13T13:02:26.155155Z",
     "iopub.status.busy": "2025-04-13T13:02:26.154718Z",
     "iopub.status.idle": "2025-04-13T13:02:26.173966Z",
     "shell.execute_reply": "2025-04-13T13:02:26.172678Z",
     "shell.execute_reply.started": "2025-04-13T13:02:26.155110Z"
    },
    "trusted": true
   },
   "outputs": [],
   "source": [
    "df_l.sample(7)"
   ]
  },
  {
   "cell_type": "code",
   "execution_count": null,
   "metadata": {
    "execution": {
     "iopub.execute_input": "2025-04-13T13:02:26.175894Z",
     "iopub.status.busy": "2025-04-13T13:02:26.175467Z",
     "iopub.status.idle": "2025-04-13T13:02:26.197630Z",
     "shell.execute_reply": "2025-04-13T13:02:26.196412Z",
     "shell.execute_reply.started": "2025-04-13T13:02:26.175846Z"
    },
    "trusted": true
   },
   "outputs": [],
   "source": [
    "# Cheking missing values\n",
    "df_l.isnull().sum()"
   ]
  },
  {
   "cell_type": "markdown",
   "metadata": {},
   "source": [
    "no missing values"
   ]
  },
  {
   "cell_type": "code",
   "execution_count": null,
   "metadata": {
    "execution": {
     "iopub.execute_input": "2025-04-13T13:02:26.201394Z",
     "iopub.status.busy": "2025-04-13T13:02:26.200969Z",
     "iopub.status.idle": "2025-04-13T13:02:26.223330Z",
     "shell.execute_reply": "2025-04-13T13:02:26.222092Z",
     "shell.execute_reply.started": "2025-04-13T13:02:26.201332Z"
    },
    "trusted": true
   },
   "outputs": [],
   "source": [
    "# checking duplicate values\n",
    "df_l.duplicated().sum()"
   ]
  },
  {
   "cell_type": "code",
   "execution_count": null,
   "metadata": {
    "execution": {
     "iopub.execute_input": "2025-04-13T13:02:26.225697Z",
     "iopub.status.busy": "2025-04-13T13:02:26.225292Z",
     "iopub.status.idle": "2025-04-13T13:02:26.251404Z",
     "shell.execute_reply": "2025-04-13T13:02:26.249882Z",
     "shell.execute_reply.started": "2025-04-13T13:02:26.225667Z"
    },
    "trusted": true
   },
   "outputs": [],
   "source": [
    "# removing duplicate values \n",
    "df_final = df_l.drop_duplicates()\n",
    "df_final"
   ]
  },
  {
   "cell_type": "markdown",
   "metadata": {},
   "source": [
    "### Univariate Analysis"
   ]
  },
  {
   "cell_type": "code",
   "execution_count": null,
   "metadata": {
    "execution": {
     "iopub.execute_input": "2025-04-13T13:02:26.252807Z",
     "iopub.status.busy": "2025-04-13T13:02:26.252502Z",
     "iopub.status.idle": "2025-04-13T13:02:26.694894Z",
     "shell.execute_reply": "2025-04-13T13:02:26.693700Z",
     "shell.execute_reply.started": "2025-04-13T13:02:26.252780Z"
    },
    "trusted": true
   },
   "outputs": [],
   "source": [
    "# States\n",
    "state_counts = df_final[\"States\"].value_counts()\n",
    "plt.figure(figsize=(7, 7))\n",
    "plt.pie(state_counts, labels=state_counts.index, autopct='%1.1f%%', startangle=140)\n",
    "plt.title('Distribution of States')\n",
    "plt.axis('equal')  # Ensures the pie is drawn as a circle\n",
    "plt.show()"
   ]
  },
  {
   "cell_type": "code",
   "execution_count": null,
   "metadata": {
    "execution": {
     "iopub.execute_input": "2025-04-13T13:02:26.696604Z",
     "iopub.status.busy": "2025-04-13T13:02:26.696243Z",
     "iopub.status.idle": "2025-04-13T13:02:26.841528Z",
     "shell.execute_reply": "2025-04-13T13:02:26.840218Z",
     "shell.execute_reply.started": "2025-04-13T13:02:26.696570Z"
    },
    "trusted": true
   },
   "outputs": [],
   "source": [
    "# Regions\n",
    "\n",
    "region_counts = df_final[\"Regions\"].value_counts()\n",
    "plt.figure(figsize=(7, 7))\n",
    "plt.pie(region_counts, labels=region_counts.index, autopct='%1.1f%%', startangle=140)\n",
    "plt.title('Distribution of Regions')\n",
    "plt.axis('equal')  # Ensures the pie is drawn as a circle\n",
    "plt.show()"
   ]
  },
  {
   "cell_type": "code",
   "execution_count": null,
   "metadata": {
    "execution": {
     "iopub.execute_input": "2025-04-13T13:02:26.843226Z",
     "iopub.status.busy": "2025-04-13T13:02:26.842812Z",
     "iopub.status.idle": "2025-04-13T13:02:27.082901Z",
     "shell.execute_reply": "2025-04-13T13:02:27.081856Z",
     "shell.execute_reply.started": "2025-04-13T13:02:26.843187Z"
    },
    "trusted": true
   },
   "outputs": [],
   "source": [
    "# Group and count unique states per region\n",
    "\n",
    "state_region_counts = df_final.groupby(\"Regions\")[\"States\"].nunique()\n",
    "\n",
    "# Plotting the bar chart\n",
    "plt.figure(figsize=(8, 6))\n",
    "bars = plt.bar(state_region_counts.index, state_region_counts.values, color='skyblue', edgecolor='black')\n",
    "\n",
    "# Add value labels on top of each bar\n",
    "for bar in bars:\n",
    "    height = bar.get_height()\n",
    "    plt.text(bar.get_x() + bar.get_width()/2, height + 0.2, f'{int(height)}', \n",
    "             ha='center', va='bottom', fontsize=10, fontweight='bold')\n",
    "plt.title('Number of Unique States per Region')\n",
    "plt.xlabel('Region')\n",
    "plt.ylabel('Number of Unique States')\n",
    "plt.xticks(rotation=45)\n",
    "plt.tight_layout()\n",
    "plt.show()\n"
   ]
  },
  {
   "cell_type": "code",
   "execution_count": null,
   "metadata": {
    "execution": {
     "iopub.execute_input": "2025-04-13T13:02:27.084348Z",
     "iopub.status.busy": "2025-04-13T13:02:27.083835Z",
     "iopub.status.idle": "2025-04-13T13:02:27.104738Z",
     "shell.execute_reply": "2025-04-13T13:02:27.100826Z",
     "shell.execute_reply.started": "2025-04-13T13:02:27.084315Z"
    },
    "trusted": true
   },
   "outputs": [],
   "source": [
    "# Usage Column\n",
    "\n",
    "df_final['Usage'].describe()"
   ]
  },
  {
   "cell_type": "code",
   "execution_count": null,
   "metadata": {
    "execution": {
     "iopub.execute_input": "2025-04-13T13:02:27.106447Z",
     "iopub.status.busy": "2025-04-13T13:02:27.105833Z",
     "iopub.status.idle": "2025-04-13T13:02:27.299891Z",
     "shell.execute_reply": "2025-04-13T13:02:27.298580Z",
     "shell.execute_reply.started": "2025-04-13T13:02:27.106313Z"
    },
    "trusted": true
   },
   "outputs": [],
   "source": [
    "# Describe statistics\n",
    "usage_stats = df_final['Usage'].describe()\n",
    "\n",
    "# Plotting boxplot\n",
    "plt.figure(figsize=(8, 6))\n",
    "box = plt.boxplot(df_final['Usage'], vert=False, patch_artist=True,\n",
    "                  boxprops=dict(facecolor='lightblue', color='black'),\n",
    "                  medianprops=dict(color='red'),\n",
    "                  whiskerprops=dict(color='black'),\n",
    "                  capprops=dict(color='black'),\n",
    "                  flierprops=dict(marker='o', markerfacecolor='orange', markersize=5, linestyle='none'))\n",
    "\n",
    "# Title and labels\n",
    "plt.title('Boxplot of Power Usage')\n",
    "plt.xlabel('Usage')\n",
    "plt.yticks([])  # Hide y-axis ticks\n",
    "plt.tight_layout()\n",
    "plt.show()\n"
   ]
  },
  {
   "cell_type": "code",
   "execution_count": null,
   "metadata": {
    "execution": {
     "iopub.execute_input": "2025-04-13T13:02:27.301486Z",
     "iopub.status.busy": "2025-04-13T13:02:27.301002Z",
     "iopub.status.idle": "2025-04-13T13:02:27.307889Z",
     "shell.execute_reply": "2025-04-13T13:02:27.306394Z",
     "shell.execute_reply.started": "2025-04-13T13:02:27.301451Z"
    },
    "trusted": true
   },
   "outputs": [],
   "source": []
  },
  {
   "cell_type": "code",
   "execution_count": null,
   "metadata": {
    "execution": {
     "iopub.execute_input": "2025-04-13T13:02:27.309212Z",
     "iopub.status.busy": "2025-04-13T13:02:27.308861Z",
     "iopub.status.idle": "2025-04-13T13:02:27.342830Z",
     "shell.execute_reply": "2025-04-13T13:02:27.341727Z",
     "shell.execute_reply.started": "2025-04-13T13:02:27.309184Z"
    },
    "trusted": true
   },
   "outputs": [],
   "source": [
    "# Dates column\n",
    "\n",
    "df_final['Dates'] = pd.to_datetime(df_final['Dates'], format=\"%d/%m/%Y %H:%M:%S\")\n",
    "\n",
    "# Get min and max dates\n",
    "start_date = df_final['Dates'].min()\n",
    "end_date = df_final['Dates'].max()\n",
    "\n",
    "# Calculate duration\n",
    "duration = end_date - start_date\n",
    "\n",
    "# Display\n",
    "print(f\"Data starts from: {start_date}\")\n",
    "print(f\"Data ends on:     {end_date}\")\n",
    "print(f\"Total duration:   {duration}\")\n"
   ]
  },
  {
   "cell_type": "markdown",
   "metadata": {},
   "source": [
    "### Bivariate Analysis"
   ]
  },
  {
   "cell_type": "code",
   "execution_count": null,
   "metadata": {
    "execution": {
     "iopub.execute_input": "2025-04-13T13:02:27.344387Z",
     "iopub.status.busy": "2025-04-13T13:02:27.343980Z",
     "iopub.status.idle": "2025-04-13T13:02:27.600208Z",
     "shell.execute_reply": "2025-04-13T13:02:27.599196Z",
     "shell.execute_reply.started": "2025-04-13T13:02:27.344330Z"
    },
    "trusted": true
   },
   "outputs": [],
   "source": [
    "# Calculate mean Usage per Region\n",
    "region_usage_mean = df_final.groupby('Regions')['Usage'].mean()\n",
    "\n",
    "# Create bar plot\n",
    "plt.figure(figsize=(8, 6))\n",
    "bars = plt.bar(region_usage_mean.index, region_usage_mean.values, color='blue')\n",
    "\n",
    "# Add data labels on top of each bar\n",
    "for bar in bars:\n",
    "    yval = bar.get_height()\n",
    "    plt.text(bar.get_x() + bar.get_width()/2, yval + 1, f'{yval:.1f}', ha='center', va='bottom')\n",
    "\n",
    "# Labeling\n",
    "plt.xlabel('Regions')\n",
    "plt.ylabel('Average Usage')\n",
    "plt.title('Average Usage per Region')\n",
    "plt.xticks(rotation=45)\n",
    "plt.tight_layout()\n",
    "\n",
    "plt.show()\n",
    "\n"
   ]
  },
  {
   "cell_type": "code",
   "execution_count": null,
   "metadata": {
    "execution": {
     "iopub.execute_input": "2025-04-13T13:02:27.601549Z",
     "iopub.status.busy": "2025-04-13T13:02:27.601183Z",
     "iopub.status.idle": "2025-04-13T13:02:27.614137Z",
     "shell.execute_reply": "2025-04-13T13:02:27.612867Z",
     "shell.execute_reply.started": "2025-04-13T13:02:27.601517Z"
    },
    "trusted": true
   },
   "outputs": [],
   "source": [
    "# Mean Usage per state\n",
    "\n",
    "mean_usage_per_state = df_final.groupby('States')['Usage'].mean().sort_values(ascending=False)\n",
    "mean_usage_per_state"
   ]
  },
  {
   "cell_type": "code",
   "execution_count": null,
   "metadata": {
    "execution": {
     "iopub.execute_input": "2025-04-13T13:02:27.615449Z",
     "iopub.status.busy": "2025-04-13T13:02:27.615124Z",
     "iopub.status.idle": "2025-04-13T13:02:28.405920Z",
     "shell.execute_reply": "2025-04-13T13:02:28.404697Z",
     "shell.execute_reply.started": "2025-04-13T13:02:27.615422Z"
    },
    "trusted": true
   },
   "outputs": [],
   "source": [
    "\n",
    "df_mean_usage = df_final.groupby('States').agg({'Usage': 'mean', 'latitude': 'mean', 'longitude': 'mean'}).reset_index()\n",
    "fig = px.scatter_geo(df_mean_usage,\n",
    "                     lat='latitude', \n",
    "                     lon='longitude', \n",
    "                     color='Usage', \n",
    "                     hover_name='States')  # You can choose any color scale\n",
    "fig.update_geos(lataxis_range=[5,35], lonaxis_range=[65, 100])\n",
    "fig.show()"
   ]
  },
  {
   "cell_type": "code",
   "execution_count": null,
   "metadata": {
    "execution": {
     "iopub.execute_input": "2025-04-13T13:02:28.407667Z",
     "iopub.status.busy": "2025-04-13T13:02:28.407304Z",
     "iopub.status.idle": "2025-04-13T13:02:28.718105Z",
     "shell.execute_reply": "2025-04-13T13:02:28.716865Z",
     "shell.execute_reply.started": "2025-04-13T13:02:28.407637Z"
    },
    "trusted": true
   },
   "outputs": [],
   "source": [
    "# Top 10 states with maximum usage\n",
    "\n",
    "top10_states = mean_usage_per_state.head(10)\n",
    "import matplotlib.pyplot as plt\n",
    "\n",
    "plt.figure(figsize=(10, 6))\n",
    "bars = plt.bar(top10_states.index, top10_states.values, color='red')\n",
    "\n",
    "# Add data labels on top of each bar\n",
    "for bar in bars:\n",
    "    yval = bar.get_height()\n",
    "    plt.text(bar.get_x() + bar.get_width()/2, yval + 2, f'{yval:.1f}', ha='center', va='bottom')\n",
    "\n",
    "# Labeling\n",
    "plt.xlabel('States')\n",
    "plt.ylabel('Average Usage')\n",
    "plt.title('Top 10 States by Mean Power Usage')\n",
    "plt.xticks(rotation=45)\n",
    "plt.tight_layout()\n",
    "\n",
    "plt.show()\n",
    "\n"
   ]
  },
  {
   "cell_type": "code",
   "execution_count": null,
   "metadata": {
    "execution": {
     "iopub.execute_input": "2025-04-13T13:02:28.719536Z",
     "iopub.status.busy": "2025-04-13T13:02:28.719176Z",
     "iopub.status.idle": "2025-04-13T13:02:29.102043Z",
     "shell.execute_reply": "2025-04-13T13:02:29.100647Z",
     "shell.execute_reply.started": "2025-04-13T13:02:28.719504Z"
    },
    "trusted": true
   },
   "outputs": [],
   "source": [
    "# Usage w.r.t date\n",
    "\n",
    "df_final.groupby('Dates')['Usage'].mean().plot()\n"
   ]
  },
  {
   "cell_type": "code",
   "execution_count": null,
   "metadata": {
    "execution": {
     "iopub.execute_input": "2025-04-13T13:02:29.113645Z",
     "iopub.status.busy": "2025-04-13T13:02:29.113297Z",
     "iopub.status.idle": "2025-04-13T13:02:29.230707Z",
     "shell.execute_reply": "2025-04-13T13:02:29.229174Z",
     "shell.execute_reply.started": "2025-04-13T13:02:29.113616Z"
    },
    "trusted": true
   },
   "outputs": [],
   "source": [
    "\n",
    "# Convert 'Dates' column to datetime\n",
    "df_final['Dates'] = pd.to_datetime(df_final['Dates'])\n",
    "\n",
    "# Extract Year-Month\n",
    "df_final['Year-Month'] = df_final['Dates'].dt.to_period('M').astype(str)\n",
    "\n",
    "# Group by 'Year-Month' and calculate mean usage\n",
    "monthly_usage = df_final.groupby('Year-Month')['Usage'].mean().reset_index()\n",
    "\n",
    "# Plot interactive line chart\n",
    "fig = px.line(monthly_usage, x='Year-Month', y='Usage', \n",
    "              title='Mean Usage per Month',\n",
    "              labels={'Usage': 'Mean Usage', 'Year-Month': 'Month'},\n",
    "              markers=True)\n",
    "\n",
    "fig.update_layout(\n",
    "    xaxis_title='Month',\n",
    "    yaxis_title='Mean Usage',\n",
    "    xaxis_tickangle=-45\n",
    ")\n",
    "\n",
    "fig.show()\n"
   ]
  },
  {
   "cell_type": "code",
   "execution_count": null,
   "metadata": {
    "execution": {
     "iopub.execute_input": "2025-04-13T13:02:29.232272Z",
     "iopub.status.busy": "2025-04-13T13:02:29.231924Z",
     "iopub.status.idle": "2025-04-13T13:02:30.160184Z",
     "shell.execute_reply": "2025-04-13T13:02:30.158888Z",
     "shell.execute_reply.started": "2025-04-13T13:02:29.232241Z"
    },
    "trusted": true
   },
   "outputs": [],
   "source": [
    "# Usage w.r.t longitude and latitude \n",
    "\n",
    "numeric_cols = ['Usage', 'latitude', 'longitude']\n",
    "plt.figure(figsize=(8, 6))\n",
    "corr_matrix = df_final[numeric_cols].corr()\n",
    "sns.heatmap(corr_matrix, annot=True, fmt=\".2f\", cmap='coolwarm')\n",
    "plt.title(\"Correlation Matrix\")\n",
    "plt.show()\n"
   ]
  },
  {
   "cell_type": "code",
   "execution_count": null,
   "metadata": {
    "execution": {
     "iopub.execute_input": "2025-04-13T13:02:30.161836Z",
     "iopub.status.busy": "2025-04-13T13:02:30.161249Z",
     "iopub.status.idle": "2025-04-13T13:02:30.178315Z",
     "shell.execute_reply": "2025-04-13T13:02:30.177116Z",
     "shell.execute_reply.started": "2025-04-13T13:02:30.161804Z"
    },
    "trusted": true
   },
   "outputs": [],
   "source": [
    "# Outlier values w.r.t states\n",
    "\n",
    "# Using IQR method again\n",
    "Q1 = df_final['Usage'].quantile(0.25)\n",
    "Q3 = df_final['Usage'].quantile(0.75)\n",
    "IQR = Q3 - Q1\n",
    "lower = Q1 - 1.5 * IQR\n",
    "upper = Q3 + 1.5 * IQR\n",
    "\n",
    "outliers = df_final[(df_final['Usage'] < lower) | (df_final['Usage'] > upper)]\n",
    "print(outliers[['States', 'Usage']].sort_values('Usage', ascending=False))\n",
    "outlier_states = outliers['States'].unique()\n",
    "print(outlier_states)\n",
    "\n"
   ]
  },
  {
   "cell_type": "code",
   "execution_count": null,
   "metadata": {
    "execution": {
     "iopub.execute_input": "2025-04-13T13:02:30.189325Z",
     "iopub.status.busy": "2025-04-13T13:02:30.188911Z",
     "iopub.status.idle": "2025-04-13T13:02:30.265561Z",
     "shell.execute_reply": "2025-04-13T13:02:30.264275Z",
     "shell.execute_reply.started": "2025-04-13T13:02:30.189283Z"
    },
    "trusted": true
   },
   "outputs": [],
   "source": [
    "df = pd.read_csv('/kaggle/input/state-wise-power-consumption-in-india/long_data_.csv')\n",
    "\n",
    "# Convert 'Dates' to datetime format\n",
    "df_final['Dates'] = pd.to_datetime(df_final['Dates'], format=\"%d/%m/%Y %H:%M:%S\")\n",
    "\n",
    "# Extract 'Month' in YYYY-MM format\n",
    "df_final['Month'] = df_final['Dates'].dt.to_period('M').astype(str)\n",
    "\n",
    "# Group by 'States' and 'Month' and calculate mean 'Usage'\n",
    "state_month_usage = df_final.groupby(['States', 'Month'])['Usage'].mean().reset_index()\n",
    "\n",
    "# Sort values for readability\n",
    "state_month_usage = state_month_usage.sort_values(by=['States', 'Month'])\n",
    "\n",
    "# Display summary statistics of the monthly average Usage\n",
    "usage_stats = state_month_usage['Usage'].describe()\n",
    "print(\"Monthly Usage Statistics (Grouped by State and Month):\\n\")\n",
    "print(usage_stats)"
   ]
  },
  {
   "cell_type": "code",
   "execution_count": null,
   "metadata": {
    "execution": {
     "iopub.execute_input": "2025-04-13T13:02:30.266942Z",
     "iopub.status.busy": "2025-04-13T13:02:30.266636Z",
     "iopub.status.idle": "2025-04-13T13:02:34.958194Z",
     "shell.execute_reply": "2025-04-13T13:02:34.956139Z",
     "shell.execute_reply.started": "2025-04-13T13:02:30.266914Z"
    },
    "trusted": true
   },
   "outputs": [],
   "source": []
  },
  {
   "cell_type": "code",
   "execution_count": null,
   "metadata": {
    "execution": {
     "iopub.execute_input": "2025-04-13T13:02:34.960591Z",
     "iopub.status.busy": "2025-04-13T13:02:34.960102Z",
     "iopub.status.idle": "2025-04-13T13:05:23.219127Z",
     "shell.execute_reply": "2025-04-13T13:05:23.217754Z",
     "shell.execute_reply.started": "2025-04-13T13:02:34.960548Z"
    },
    "trusted": true
   },
   "outputs": [],
   "source": [
    "\n",
    "\n",
    "state_month_usage['Month'] = pd.to_datetime(state_month_usage['Month'])\n",
    "\n",
    "df_race = state_month_usage.pivot(index='Month', columns='States', values='Usage')\n",
    "\n",
    "df_race = df_race.sort_index()\n",
    "\n",
    "# Run bar chart race\n",
    "bcr.bar_chart_race(\n",
    "    df=df_race,\n",
    "    filename=None,  \n",
    "    orientation='h',\n",
    "    sort='desc',\n",
    "    n_bars=33,\n",
    "    fixed_order=False,\n",
    "    fixed_max=True,\n",
    "    steps_per_period=40,\n",
    "    interpolate_period=True,\n",
    "    label_bars=True,\n",
    "    period_length=2000,\n",
    "    period_fmt='%b %Y',\n",
    "    period_summary_func=lambda v, r: {'x': .99, 'y': .2,\n",
    "                                      's': f'Total Usage: {int(v.sum())}',\n",
    "                                      'ha': 'right', 'size': 8},\n",
    "    perpendicular_bar_func=None,\n",
    "    figsize=(5, 4),\n",
    "    dpi=144,\n",
    "    cmap='dark24',\n",
    "    title='Monthly Power Usage(Mean) by Indian States',\n",
    "    bar_label_size=7,\n",
    "    tick_label_size=7,\n",
    "    shared_fontdict={'family': 'Courier New', 'color': '.1'},\n",
    "    scale='linear',\n",
    "    bar_kwargs={'alpha': .7},\n",
    "    filter_column_colors=True\n",
    ")"
   ]
  },
  {
   "cell_type": "code",
   "execution_count": null,
   "metadata": {
    "execution": {
     "iopub.execute_input": "2025-04-13T13:05:23.221732Z",
     "iopub.status.busy": "2025-04-13T13:05:23.221180Z",
     "iopub.status.idle": "2025-04-13T13:05:23.622279Z",
     "shell.execute_reply": "2025-04-13T13:05:23.620960Z",
     "shell.execute_reply.started": "2025-04-13T13:05:23.221679Z"
    },
    "trusted": true
   },
   "outputs": [],
   "source": [
    "\n",
    "# Ensure 'Dates' is in datetime format\n",
    "df_final['Dates'] = pd.to_datetime(df_final['Dates'], format=\"%d/%m/%Y %H:%M:%S\")\n",
    "\n",
    "# Create figure\n",
    "fig = go.Figure()\n",
    "states = df_final['States'].unique()\n",
    "\n",
    "# Add traces (initially hidden but visible in legend)\n",
    "for state in states:\n",
    "    state_data = df_final[df_final['States'] == state]\n",
    "    fig.add_trace(go.Scatter(\n",
    "        x=state_data['Dates'],\n",
    "        y=state_data['Usage'],\n",
    "        mode='lines',\n",
    "        name=state,\n",
    "        visible='legendonly'\n",
    "    ))\n",
    "\n",
    "# Create visibility lists\n",
    "all_visible = [True] * len(states)\n",
    "all_legendonly = ['legendonly'] * len(states)\n",
    "\n",
    "# Add buttons\n",
    "fig.update_layout(\n",
    "    updatemenus=[\n",
    "        dict(\n",
    "            type=\"buttons\",\n",
    "            direction=\"left\",\n",
    "            buttons=[\n",
    "                dict(label=\"Select All\",\n",
    "                     method=\"update\",\n",
    "                     args=[{\"visible\": all_visible}]),\n",
    "                dict(label=\"Deselect All\",\n",
    "                     method=\"update\",\n",
    "                     args=[{\"visible\": all_legendonly}])\n",
    "            ],\n",
    "            pad={\"r\": 10, \"t\": 10},\n",
    "            showactive=False,\n",
    "            x=0.5,\n",
    "            xanchor=\"center\",\n",
    "            y=1.15,\n",
    "            yanchor=\"top\"\n",
    "        )\n",
    "    ],\n",
    "    title='Power Usage Over Time by State',\n",
    "    xaxis_title='Date',\n",
    "    yaxis_title='Power Usage',\n",
    "    legend_title='State',\n",
    "    hovermode='x unified'\n",
    ")\n",
    "\n",
    "fig.show()\n"
   ]
  },
  {
   "cell_type": "code",
   "execution_count": null,
   "metadata": {
    "execution": {
     "iopub.execute_input": "2025-04-13T13:05:23.624587Z",
     "iopub.status.busy": "2025-04-13T13:05:23.624158Z",
     "iopub.status.idle": "2025-04-13T13:05:23.642069Z",
     "shell.execute_reply": "2025-04-13T13:05:23.640262Z",
     "shell.execute_reply.started": "2025-04-13T13:05:23.624551Z"
    },
    "trusted": true
   },
   "outputs": [],
   "source": [
    "# Define cutoff date\n",
    "cutoff_date = pd.Timestamp('2020-01-01')\n",
    "\n",
    "# Count entries before and after the cutoff date\n",
    "before_count = df_final[df_final['Dates'] < cutoff_date].shape[0]\n",
    "after_count = df_final[df_final['Dates'] >= cutoff_date].shape[0]\n",
    "\n",
    "print(f\"Entries before 1 Jan 2020: {before_count}\")\n",
    "print(f\"Entries on or after 1 Jan 2020: {after_count}\")\n"
   ]
  },
  {
   "cell_type": "code",
   "execution_count": null,
   "metadata": {
    "execution": {
     "iopub.execute_input": "2025-04-13T13:05:29.144619Z",
     "iopub.status.busy": "2025-04-13T13:05:29.144113Z",
     "iopub.status.idle": "2025-04-13T13:05:29.790105Z",
     "shell.execute_reply": "2025-04-13T13:05:29.788232Z",
     "shell.execute_reply.started": "2025-04-13T13:05:29.144561Z"
    },
    "trusted": true
   },
   "outputs": [],
   "source": [
    "\n",
    "\n",
    "\n",
    "# Convert 'year month' column to datetime (assuming format 'YYYY-MM')\n",
    "df_final['Year-Month'] = pd.to_datetime(df_final['Year-Month'], format='%Y-%m')\n",
    "\n",
    "# Define lockdown date\n",
    "lockdown_date = pd.Timestamp('2020-03-25')\n",
    "\n",
    "# Split data before and after lockdown\n",
    "before_lockdown = df_final[df_final['Dates'] < lockdown_date]\n",
    "after_lockdown = df_final[df_final['Dates'] >= lockdown_date]\n",
    "\n",
    "# Group by 'year month' and calculate total usage\n",
    "before_agg = before_lockdown.groupby('Year-Month')['Usage'].mean()\n",
    "after_agg = after_lockdown.groupby('Year-Month')['Usage'].mean()\n",
    "\n",
    "# Plotting\n",
    "plt.figure(figsize=(14, 6))\n",
    "line1, = plt.plot(before_agg.index, before_agg.values, label='Before Lockdown', color='skyblue', marker='o')\n",
    "line2, = plt.plot(after_agg.index, after_agg.values, label='After Lockdown', color='salmon', marker='o')\n",
    "\n",
    "# Mark lockdown date\n",
    "plt.axvline(pd.Timestamp('2020-03'), color='black', linestyle='--', linewidth=2, label='Lockdown Start')\n",
    "\n",
    "# Format x-axis to show month names\n",
    "plt.gca().xaxis.set_major_formatter(plt.matplotlib.dates.DateFormatter('%b %Y'))\n",
    "plt.xticks(rotation=45)\n",
    "\n",
    "# Labels and styling\n",
    "plt.title(\"Electricity Usage Before and After COVID Lockdown (India)\", fontsize=14)\n",
    "plt.xlabel(\"Month\", fontsize=12)\n",
    "plt.ylabel(\"Total Monthly Usage\", fontsize=12)\n",
    "plt.legend()\n",
    "plt.grid(True, linestyle='--', linewidth=0.5)\n",
    "plt.tight_layout()\n",
    "\n",
    "# Make the plot interactive for data points\n",
    "mplcursors.cursor([line1, line2], hover=True).connect(\"add\", lambda sel: sel.annotation.set_text(f\"{sel.target[0]:.2f}, {sel.target[1]:.2f}\"))\n",
    "\n",
    "# Show plot\n",
    "plt.show()\n"
   ]
  },
  {
   "cell_type": "code",
   "execution_count": null,
   "metadata": {
    "execution": {
     "iopub.execute_input": "2025-04-13T13:05:30.452316Z",
     "iopub.status.busy": "2025-04-13T13:05:30.452010Z",
     "iopub.status.idle": "2025-04-13T13:05:30.580422Z",
     "shell.execute_reply": "2025-04-13T13:05:30.579218Z",
     "shell.execute_reply.started": "2025-04-13T13:05:30.452276Z"
    },
    "trusted": true
   },
   "outputs": [],
   "source": [
    "\n",
    "states = state_month_usage['States'].unique()\n",
    "\n",
    "# Create the figure\n",
    "fig = go.Figure()\n",
    "\n",
    "# Add a bar trace for each state (only first state is visible initially)\n",
    "for i, state in enumerate(states):\n",
    "    state_data = state_month_usage[state_month_usage['States'] == state]\n",
    "    fig.add_trace(go.Bar(\n",
    "        x=state_data['Month'],\n",
    "        y=state_data['Usage'],\n",
    "        name=state,\n",
    "        visible=(i == 0)  # Only show the first state initially\n",
    "    ))\n",
    "\n",
    "# Add dropdown to toggle visibility\n",
    "fig.update_layout(\n",
    "    updatemenus=[\n",
    "        {\n",
    "            \"buttons\": [\n",
    "                {\n",
    "                    \"label\": state,\n",
    "                    \"method\": \"update\",\n",
    "                    \"args\": [\n",
    "                        {\"visible\": [i == j for j in range(len(states))]},\n",
    "                        {\"title\": f\"Monthly Usage for {state}\"}\n",
    "                    ],\n",
    "                } for i, state in enumerate(states)\n",
    "            ],\n",
    "            \"direction\": \"down\",\n",
    "            \"showactive\": True,\n",
    "            \"x\": 1.1,\n",
    "            \"xanchor\": \"left\",\n",
    "            \"y\": 1.15,\n",
    "            \"yanchor\": \"top\"\n",
    "        }\n",
    "    ],\n",
    "    title=f\"Monthly Usage for {states[0]}\",\n",
    "    xaxis_title=\"Months\",\n",
    "    yaxis_title=\"Average Usage in Mega Units(MU)\",\n",
    "    height=500\n",
    ")\n",
    "\n",
    "fig.show()"
   ]
  },
  {
   "cell_type": "code",
   "execution_count": null,
   "metadata": {
    "trusted": true
   },
   "outputs": [],
   "source": []
  }
 ],
 "metadata": {
  "kaggle": {
   "accelerator": "none",
   "dataSources": [
    {
     "datasetId": 695144,
     "sourceId": 1228449,
     "sourceType": "datasetVersion"
    }
   ],
   "dockerImageVersionId": 30918,
   "isGpuEnabled": false,
   "isInternetEnabled": true,
   "language": "python",
   "sourceType": "notebook"
  },
  "kernelspec": {
   "display_name": "base",
   "language": "python",
   "name": "python3"
  },
  "language_info": {
   "codemirror_mode": {
    "name": "ipython",
    "version": 3
   },
   "file_extension": ".py",
   "mimetype": "text/x-python",
   "name": "python",
   "nbconvert_exporter": "python",
   "pygments_lexer": "ipython3",
   "version": "3.12.4"
  }
 },
 "nbformat": 4,
 "nbformat_minor": 4
}
